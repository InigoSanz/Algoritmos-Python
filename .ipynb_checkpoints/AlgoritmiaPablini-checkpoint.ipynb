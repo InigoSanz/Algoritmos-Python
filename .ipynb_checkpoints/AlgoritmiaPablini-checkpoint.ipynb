{
 "cells": [
  {
   "cell_type": "markdown",
   "metadata": {},
   "source": [
    "Mochila"
   ]
  },
  {
   "cell_type": "code",
   "execution_count": null,
   "metadata": {},
   "outputs": [],
   "source": [
    "def arboloptimo(n, p, q):\n",
    "    e = [[0] * (n + 1) for _ in range(n + 2)]\n",
    "    w = [[0] * (n + 1) for _ in range(n + 2)]\n",
    "    raiz = [[0] * (n + 1) for _ in range(n + 1)]\n",
    "\n",
    "    for i in range(1, n + 2):\n",
    "        e[i][i - 1] = q[i - 1]\n",
    "        w[i][i - 1] = q[i - 1]\n",
    "\n",
    "    for l in range(1, n + 1):\n",
    "        for i in range(1, n - l + 2):\n",
    "            j = i + l - 1\n",
    "            e[i][j] = float('inf')\n",
    "            w[i][j] = w[i][j - 1] + p[j] + q[j]\n",
    "            for r in range(i, j + 1):\n",
    "                t = e[i][r - 1] + e[r + 1][j] + w[i][j]\n",
    "                if t < e[i][j]:\n",
    "                    e[i][j] = t\n",
    "                    raiz[i][j] = r\n",
    "\n",
    "    return e, raiz\n",
    "\n",
    "n = 5\n",
    "p = [0, 0.15, 0.10, 0.05, 0.10, 0.20]\n",
    "q = [0.05, 0.10, 0.05, 0.05, 0.05, 0.10]\n",
    "\n",
    "resultado_e, resultado_raiz = arboloptimo(n, p, q)\n",
    "\n",
    "\n",
    "print(\"Matriz e:\")\n",
    "for i in range(1, n + 2):\n",
    "    for j in range(0, n + 1):\n",
    "        print(f\"{resultado_e[i][j]:.2f}\", end=\"\\t\")\n",
    "    print()\n",
    "\n",
    "print(\"\\nMatriz raiz:\")\n",
    "for i in range(1, n + 1):\n",
    "    for j in range(1, n + 1):\n",
    "        print(resultado_raiz[i][j], end=\"\\t\")\n",
    "    print()"
   ]
  },
  {
   "cell_type": "code",
   "execution_count": 1,
   "metadata": {},
   "outputs": [
    {
     "name": "stdout",
     "output_type": "stream",
     "text": [
      "['o6', 'o4', 'o2', 'o5', 'o1', 'o7', 'o3']\n",
      "VAlor 26\n",
      "Peso 15\n",
      "Valor:  26\n",
      "Peso:  15\n"
     ]
    }
   ],
   "source": [
    "#objeto->peso valor\n",
    "lista = {\"o1\": [5, 3], \"o2\": [2, 5], \"o3\": [7, 2], \"o4\": [4, 6], \"o5\": [1, 4], \"o6\": [3, 8], \"o7\": [6, 3]}\n",
    "\n",
    "def mochila(lista, capacidad):\n",
    "    claves = lista.keys()\n",
    "    objetos =[]\n",
    "    valor = 0\n",
    "    for i in claves:\n",
    "        objetos.append(i)\n",
    "        \n",
    "    objetos.sort(reverse=True, key=lambda x: lista[x][1])\n",
    "    print(objetos)\n",
    "    \n",
    "    pesoMochila = 0\n",
    "    while pesoMochila < capacidad:\n",
    "        objeto = objetos.pop(0)\n",
    "        if lista[objeto][0] + pesoMochila <= capacidad:\n",
    "            valor += lista[objeto][1]\n",
    "            pesoMochila += lista[objeto][0]\n",
    "        else:\n",
    "            cantidad = (capacidad - pesoMochila)/lista[objeto][0]\n",
    "            valor += (lista[objeto][1])*cantidad\n",
    "            pesoMochila += lista[objeto][0]*cantidad\n",
    "    \n",
    "    print(\"VAlor\",  valor)\n",
    "    print(\"Peso\",  pesoMochila)\n",
    "            \n",
    "        \n",
    "mochila(lista, 15)\n",
    "\n",
    "objetos = [(\"o1\", 5, 3), (\"o2\", 2, 5), (\"o3\", 7, 2), (\"o4\", 4, 6), (\"o5\", 1, 4), (\"o6\", 3, 8), (\"o7\", 6, 3)]\n",
    "\n",
    "def mochila2(objetos, capacidad):\n",
    "    objetos.sort(reverse=True, key=lambda x: x[2])  # Ordenar objetos por valor descendente\n",
    "    \n",
    "    peso_mochila = 0\n",
    "    valor_total = 0\n",
    "    \n",
    "    for objeto in objetos:\n",
    "        if peso_mochila + objeto[1] <= capacidad:\n",
    "            valor_total += objeto[2]\n",
    "            peso_mochila += objeto[1]\n",
    "        else:\n",
    "            cantidad = int((capacidad - peso_mochila) / objeto[1])\n",
    "            valor_total += objeto[2] * cantidad\n",
    "            peso_mochila += objeto[1] * cantidad\n",
    "    \n",
    "    print(\"Valor: \", valor_total)\n",
    "    print(\"Peso: \", peso_mochila)\n",
    "    \n",
    "mochila2(objetos, 15)\n",
    "    "
   ]
  },
  {
   "cell_type": "markdown",
   "metadata": {},
   "source": [
    "Mochila Dinaminca"
   ]
  },
  {
   "cell_type": "code",
   "execution_count": 2,
   "metadata": {},
   "outputs": [
    {
     "name": "stdout",
     "output_type": "stream",
     "text": [
      "Objetos seleccionados:\n",
      "o6\n",
      "o5\n",
      "o4\n",
      "o2\n",
      "o1\n"
     ]
    }
   ],
   "source": [
    "lista = {\"o1\": [5, 3], \"o2\": [2, 5], \"o3\": [7, 2], \"o4\": [4, 6], \"o5\": [1, 4], \"o6\": [3, 8], \"o7\": [6, 3]}\n",
    "\n",
    "def mochiladinamica(lista, capacidad):\n",
    "    # n es el numero de objetos\n",
    "    n = len(lista.keys())\n",
    "    # objetos es una lista con los nombres de los objetos\n",
    "    objetos = list(lista.keys())\n",
    "    # matriz es una matriz de n+1 filas y capacidad+1 columnas\n",
    "    matriz = [[0]* (capacidad+1) for _ in range(n+1)]\n",
    "    # bucle para rellenar la matriz\n",
    "    for i in range(1, n + 1):\n",
    "        for j in range(1, capacidad + 1):\n",
    "            # peso_actual es el peso del objeto i\n",
    "            peso_actual = lista[objetos[i-1]][0]\n",
    "            # valor_actual es el valor del objeto i\n",
    "            valor_actual = lista[objetos[i-1]][1]\n",
    "            # si el peso del objeto actual es menor o igual que la capacidad\n",
    "            if peso_actual <= j:\n",
    "                # la celda de la matriz es el maximo entre el valor actual + el valor de la matriz en la fila anterior y la columna actual menos el peso actual\n",
    "                matriz[i][j] = max(valor_actual + matriz[i-1][j-peso_actual], matriz[i-1][j])\n",
    "            # si no, la celda de la matriz es el valor de la matriz en la fila anterior y la columna actual\n",
    "            else:\n",
    "                matriz[i][j] = matriz[i-1][j]\n",
    "    \n",
    "    seleccionados = []\n",
    "    i=n\n",
    "    j=capacidad\n",
    "    \n",
    "    # bucle para seleccionar los objetos\n",
    "    while i>0 and j>0:\n",
    "        # si el valor de la matriz en la fila anterior y la columna actual es distinto al valor de la matriz en la fila actual y la columna actual\n",
    "        if matriz[i][j] != matriz[i-1][j]:\n",
    "            # añadir el objeto a la lista de seleccionados\n",
    "            seleccionados.append(objetos[i-1])\n",
    "            # restar el peso del objeto a la capacidad\n",
    "            j = j- lista[objetos[i-1]][0]\n",
    "        # restar 1 a i   \n",
    "        i = i -1\n",
    "        \n",
    "    print(\"Objetos seleccionados:\")\n",
    "    for objeto in seleccionados:\n",
    "        print(objeto)           \n",
    "    \n",
    "            \n",
    "    \n",
    "    \n",
    "mochiladinamica(lista,15)\n",
    "    "
   ]
  },
  {
   "cell_type": "markdown",
   "metadata": {},
   "source": [
    "LCS\n"
   ]
  },
  {
   "cell_type": "code",
   "execution_count": 3,
   "metadata": {},
   "outputs": [
    {
     "name": "stdout",
     "output_type": "stream",
     "text": [
      "abdag\n"
     ]
    }
   ],
   "source": [
    "cadena1 = \"aabddccadedgee\"\n",
    "cadena2 = \"bbgeeacbdaagg\"\n",
    "\n",
    "def lcs(cadena1,cadena2):\n",
    "    n = len(cadena1)\n",
    "    m = len(cadena2)\n",
    "    \n",
    "    # matriz = [[0]* (m+1)] * (n+1)  # Cuidado con esto, no se puede hacer así porque se copia la referencia\n",
    "    # matriz = [[0]* (m+1) for _ in range(n+1)]  # Así se hace correctamente\n",
    "    # matriz que guarda el número de caracteres comunes\n",
    "    matriz = [[0] * (m+1) for _ in range(n+1)]\n",
    "\n",
    "    # bucle \n",
    "    for i in range(1,n+1):\n",
    "        for j in range (1,m+1):\n",
    "            # si los caracteres son iguales, sumamos 1 al valor de la diagonal\n",
    "            if cadena1[i-1] == cadena2[j-1]:\n",
    "                matriz[i][j] = matriz[i-1][j-1] + 1\n",
    "            # si no son iguales, cogemos el máximo de los valores de la fila y la columna anterior\n",
    "            else:\n",
    "                matriz[i][j] = max(matriz[i-1][j], matriz[i][j-1])\n",
    "\n",
    "                \n",
    "    lcs = \"\"\n",
    "    i = n\n",
    "    j = m\n",
    "    \n",
    "    # \n",
    "    while i>0 and j>0:\n",
    "        # si los caracteres son iguales, lo añadimos a la cadena y restamos 1 a i y j\n",
    "        if cadena1[i-1] == cadena2[j-1]:\n",
    "            lcs = cadena1[i-1] + lcs\n",
    "            i-=1\n",
    "            j-=1\n",
    "        # si no son iguales, nos movemos a la casilla de la que proviene el valor máximo\n",
    "        else:\n",
    "            # si el valor de la casilla de arriba es mayor que el de la izquierda, nos movemos arriba\n",
    "            if matriz[i-1][j] > matriz[i][j-1]:\n",
    "                i-=1\n",
    "            else:\n",
    "                j-=1\n",
    "    \n",
    "    \n",
    "            \n",
    "    print(lcs)\n",
    "\n",
    "lcs(cadena1, cadena2)"
   ]
  },
  {
   "cell_type": "markdown",
   "metadata": {},
   "source": [
    "MergeSort\n"
   ]
  },
  {
   "cell_type": "code",
   "execution_count": 4,
   "metadata": {},
   "outputs": [
    {
     "name": "stdout",
     "output_type": "stream",
     "text": [
      "[0, 0, 1, 2, 2, 3, 3, 4, 21, 22, 23, 33, 52, 53, 53, 53, 53, 55, 64, 86, 456]\n"
     ]
    }
   ],
   "source": [
    "lista = [0,1,3,4,3,53,2,53,52,53,22,55,33,2,0,53,86,456,21,64,23]\n",
    "\n",
    "def mergeSort(lista):\n",
    "    if len(lista)>1:\n",
    "        mitad = len(lista) // 2\n",
    "        L = lista[:mitad]\n",
    "        R = lista[mitad:]\n",
    "        \n",
    "        mergeSort(L)\n",
    "        mergeSort(R)\n",
    "        \n",
    "        i=j=k=0\n",
    "        \n",
    "        while i<len(L) and j<len(R):\n",
    "            if L[i] <= R[j]:\n",
    "                lista[k] = L[i]\n",
    "                i+=1\n",
    "            else: \n",
    "                lista[k]= R[j]\n",
    "                j+=1\n",
    "            k+=1\n",
    "        if(i<len(L)):\n",
    "            while i<len(L):\n",
    "                lista[k]=L[i]\n",
    "                i+=1\n",
    "                k+=1\n",
    "                \n",
    "        if(j<len(R)):\n",
    "            while j<len(R):\n",
    "                lista[k]=R[j]\n",
    "                j+=1\n",
    "                k+=1\n",
    "        return(lista)\n",
    "\n",
    "mergeSort(lista)\n",
    "print(lista)\n",
    "        \n",
    "        "
   ]
  },
  {
   "cell_type": "markdown",
   "metadata": {},
   "source": [
    "QuickSort"
   ]
  },
  {
   "cell_type": "code",
   "execution_count": 5,
   "metadata": {},
   "outputs": [
    {
     "data": {
      "text/plain": [
       "[0, 0, 1, 2, 2, 3, 3, 4, 21, 22, 23, 33, 52, 53, 53, 53, 53, 55, 64, 86, 456]"
      ]
     },
     "execution_count": 5,
     "metadata": {},
     "output_type": "execute_result"
    }
   ],
   "source": [
    "lista = [0,1,3,4,3,53,2,53,52,53,22,55,33,2,0,53,86,456,21,64,23]\n",
    "\n",
    "def quickSort(lista):\n",
    "    if len(lista) <=1:\n",
    "        return lista\n",
    "    else:\n",
    "        der =[]\n",
    "        izq =[]\n",
    "        pivo = 0\n",
    "        pivote = lista[pivo]\n",
    "        \n",
    "        for i in range(len(lista)):\n",
    "            if i != pivo:\n",
    "                if lista[i]<=pivote:\n",
    "                    izq.append(lista[i])\n",
    "                else:\n",
    "                    der.append(lista[i])\n",
    "        \n",
    "        izq_or = quickSort(izq)\n",
    "        der_or = quickSort(der)\n",
    "        \n",
    "        return izq_or + [pivote] + der_or\n",
    "                \n",
    "quickSort(lista)                \n",
    "                \n"
   ]
  },
  {
   "cell_type": "markdown",
   "metadata": {},
   "source": [
    "Dar la vuelta"
   ]
  },
  {
   "cell_type": "code",
   "execution_count": 6,
   "metadata": {},
   "outputs": [
    {
     "name": "stdout",
     "output_type": "stream",
     "text": [
      "{10: 3, 5: 0, 1: 3, 0.5: 0, 0.2: 1, 0.1: 0}\n"
     ]
    }
   ],
   "source": [
    "lista=[10,5,1,0.5,0.2,0.1]\n",
    "\n",
    "def darVuelta(lista, cantidad):\n",
    "    total = cantidad\n",
    "    cambio ={}\n",
    "    for moneda in lista:\n",
    "        cantidad_moneda = int(total / moneda)\n",
    "        cambio[moneda] = cantidad_moneda\n",
    "        total -= cantidad_moneda * moneda\n",
    "    \n",
    "    print(cambio)\n",
    "    \n",
    "darVuelta(lista, 33.26)\n",
    "            \n",
    "        \n",
    "        \n",
    "    "
   ]
  },
  {
   "cell_type": "code",
   "execution_count": 7,
   "metadata": {},
   "outputs": [
    {
     "ename": "TypeError",
     "evalue": "Bicicleta() takes no arguments",
     "output_type": "error",
     "traceback": [
      "\u001b[1;31m---------------------------------------------------------------------------\u001b[0m",
      "\u001b[1;31mTypeError\u001b[0m                                 Traceback (most recent call last)",
      "Cell \u001b[1;32mIn[7], line 37\u001b[0m\n\u001b[0;32m     35\u001b[0m     nombre \u001b[38;5;241m=\u001b[39m random\u001b[38;5;241m.\u001b[39mchoice(nombres_bicicletas)\n\u001b[0;32m     36\u001b[0m     precio \u001b[38;5;241m=\u001b[39m random\u001b[38;5;241m.\u001b[39mrandint(\u001b[38;5;241m100\u001b[39m, \u001b[38;5;241m1000\u001b[39m)  \u001b[38;5;66;03m# Precio aleatorio entre 100 y 1000\u001b[39;00m\n\u001b[1;32m---> 37\u001b[0m     bicicleta \u001b[38;5;241m=\u001b[39m \u001b[43mBicicleta\u001b[49m\u001b[43m(\u001b[49m\u001b[43mnombre\u001b[49m\u001b[43m,\u001b[49m\u001b[43m \u001b[49m\u001b[43mprecio\u001b[49m\u001b[43m)\u001b[49m\n\u001b[0;32m     38\u001b[0m     lista_bicicletas\u001b[38;5;241m.\u001b[39mappend(bicicleta)\n\u001b[0;32m     40\u001b[0m lista_ordenada \u001b[38;5;241m=\u001b[39m quickSort(lista_bicicletas, key_function\u001b[38;5;241m=\u001b[39m\u001b[38;5;28;01mlambda\u001b[39;00m bicicleta: bicicleta\u001b[38;5;241m.\u001b[39mprecio)\n",
      "\u001b[1;31mTypeError\u001b[0m: Bicicleta() takes no arguments"
     ]
    }
   ],
   "source": [
    "def quickSort(lista, key_function=lambda x: x):\n",
    "    if len(lista) <= 1:\n",
    "        return lista\n",
    "    else:\n",
    "        der = []\n",
    "        izq = []\n",
    "        pivo = 0\n",
    "        pivote = lista[pivo]\n",
    "\n",
    "        for i in range(len(lista)):\n",
    "            if i != pivo:\n",
    "                if key_function(lista[i]) <= key_function(pivote):\n",
    "                    izq.append(lista[i])\n",
    "                else:\n",
    "                    der.append(lista[i])\n",
    "\n",
    "        izq_or = quickSort(izq, key_function)\n",
    "        der_or = quickSort(der, key_function)\n",
    "\n",
    "        return izq_or + [pivote] + der_or\n",
    "\n",
    "import random\n",
    "\n",
    "class Bicicleta:\n",
    "    def _init_(self, nombre, precio):\n",
    "        self.nombre = nombre\n",
    "        self.precio = precio\n",
    "\n",
    "# Lista de nombres de bicicletas\n",
    "nombres_bicicletas = [\"Bicicleta A\", \"Bicicleta B\", \"Bicicleta C\", \"Bicicleta D\", \"Bicicleta E\", \"Bicicleta F\", \"Bicicleta G\", \"Bicicleta H\", \"Bicicleta I\", \"Bicicleta J\"]\n",
    "\n",
    "# Crear lista de 30 bicicletas con precios aleatorios\n",
    "lista_bicicletas = []\n",
    "for i in range(30):\n",
    "    nombre = random.choice(nombres_bicicletas)\n",
    "    precio = random.randint(100, 1000)  # Precio aleatorio entre 100 y 1000\n",
    "    bicicleta = Bicicleta(nombre, precio)\n",
    "    lista_bicicletas.append(bicicleta)\n",
    "    \n",
    "lista_ordenada = quickSort(lista_bicicletas, key_function=lambda bicicleta: bicicleta.precio)\n",
    "\n",
    "for bicicleta in lista_ordenada:\n",
    "    print(f\"Nombre: {bicicleta.nombre}, Precio: {bicicleta.precio}\")"
   ]
  }
 ],
 "metadata": {
  "kernelspec": {
   "display_name": "Python 3 (ipykernel)",
   "language": "python",
   "name": "python3"
  },
  "language_info": {
   "codemirror_mode": {
    "name": "ipython",
    "version": 3
   },
   "file_extension": ".py",
   "mimetype": "text/x-python",
   "name": "python",
   "nbconvert_exporter": "python",
   "pygments_lexer": "ipython3",
   "version": "3.10.9"
  }
 },
 "nbformat": 4,
 "nbformat_minor": 4
}
